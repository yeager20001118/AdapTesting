{
 "cells": [
  {
   "cell_type": "code",
   "execution_count": 1,
   "id": "29557392",
   "metadata": {},
   "outputs": [
    {
     "name": "stderr",
     "output_type": "stream",
     "text": [
      "c:\\Users\\Yeager\\anaconda3\\envs\\research\\lib\\site-packages\\tqdm\\auto.py:21: TqdmWarning: IProgress not found. Please update jupyter and ipywidgets. See https://ipywidgets.readthedocs.io/en/stable/user_install.html\n",
      "  from .autonotebook import tqdm as notebook_tqdm\n"
     ]
    }
   ],
   "source": [
    "from adaptesting import tst, datasets"
   ]
  },
  {
   "cell_type": "code",
   "execution_count": null,
   "id": "36203c83",
   "metadata": {},
   "outputs": [
    {
     "name": "stdout",
     "output_type": "stream",
     "text": [
      "Reject the null hypothesis with p-value: 0.0, the MMD value is 0.00739443302154541.\n",
      "Reject the null hypothesis with p-value: 0.003000000026077032, the MMD value is 280.3096008300781.\n",
      "Reject the null hypothesis with p-value: 0.007000015117228031, the MMD value is 0.004305602516978979.\n",
      "Reject the null hypothesis with p-value: 0.03999999910593033, the MMD value is 0.15547800064086914.\n",
      "Reject the null hypothesis with p-value: 0.01, the MMD value is 0.010796010494232178.\n"
     ]
    }
   ],
   "source": [
    "# Higgs dataset\n",
    "higgs = datasets.HiggsBoson(N=100, M=100)\n",
    "X, Y = higgs()\n",
    "h, mmd, p = tst(X, Y)\n",
    "h, mmd_value, p_value = tst(X, Y, device=\"cuda\", method=\"fuse\", kernel=\"laplace_gaussian\", n_perm=2000)\n",
    "h, mmd_value, p_value = tst(X, Y, device=\"cuda\", method=\"agg\", n_perm=3000)\n",
    "h, mmd_value, p_value = tst(X, Y, device=\"cuda\", method=\"clf\", data_type='tabular')\n",
    "h, mmd_value, p_value = tst(X, Y, device=\"cuda\", method=\"deep\", data_type='tabular')"
   ]
  },
  {
   "cell_type": "code",
   "execution_count": 8,
   "id": "57505f36",
   "metadata": {},
   "outputs": [
    {
     "name": "stdout",
     "output_type": "stream",
     "text": [
      "Loading HC3 dataset (may take a moment)...\n",
      "Downloaded HC3 dataset\n",
      "Reject the null hypothesis with p-value: 0.0, the MMD value is 0.3945915102958679.\n",
      "Reject the null hypothesis with p-value: 0.0, the MMD value is 7877.46240234375.\n",
      "Reject the null hypothesis with p-value: 0.0006024102331139147, the MMD value is 0.024930689483880997.\n",
      "Reject the null hypothesis with p-value: 0.0, the MMD value is 0.9889661073684692.\n",
      "Reject the null hypothesis with p-value: 0.0, the MMD value is 0.4366534352302551.\n"
     ]
    }
   ],
   "source": [
    "# HC3 human vs AI text\n",
    "hc3 = datasets.HC3(N=100, M=100) #, t1_check=True)\n",
    "X, Y = hc3()\n",
    "h, mmd_value, p_value = tst(X, Y, device=\"cuda\", data_type='text')\n",
    "h, mmd_value, p_value = tst(X, Y, device=\"cuda\", method=\"fuse\", kernel=\"laplace_gaussian\", n_perm=2000, data_type=\"text\")\n",
    "h, mmd_value, p_value = tst(X, Y, device=\"cuda\", method=\"agg\", n_perm=3000, data_type=\"text\")\n",
    "h, mmd_value, p_value = tst(X, Y, device=\"cuda\", method='clf', data_type='text')\n",
    "h, mmd_value, p_value = tst(X, Y, device=\"cuda\", method=\"deep\", data_type='text')"
   ]
  },
  {
   "cell_type": "code",
   "execution_count": 2,
   "id": "f2b38539",
   "metadata": {},
   "outputs": [
    {
     "name": "stdout",
     "output_type": "stream",
     "text": [
      "Files already downloaded and verified\n",
      "Fail to reject the null hypothesis with p-value: 1.0, the MMD value is -0.008252501487731934.\n",
      "Fail to reject the null hypothesis with p-value: 1.0, the MMD value is -8.899398803710938.\n",
      "Reject the null hypothesis with p-value: 0.001063833711668849, the MMD value is 8.766077273791861e-12.\n",
      "Reject the null hypothesis with p-value: 0.0, the MMD value is 0.08030074834823608.\n",
      "Reject the null hypothesis with p-value: 0.04, the MMD value is 0.019070208072662354.\n"
     ]
    }
   ],
   "source": [
    "# CIFAR-10 adversarial images\n",
    "adv = datasets.CIFAR10Adversarial(N=100, M=100, attack_method='PGD')#, t1_check=True)\n",
    "X, Y = adv()\n",
    "h, mmd_value, p_value = tst(X, Y, device=\"cuda\", data_type='image')\n",
    "h, mmd_value, p_value = tst(X, Y, device=\"cuda\", method=\"fuse\", kernel=\"laplace_gaussian\", n_perm=2000, data_type=\"image\")\n",
    "h, mmd_value, p_value = tst(X, Y, device=\"cuda\", method=\"agg\", n_perm=3000, data_type=\"image\")\n",
    "h, mmd_value, p_value = tst(X, Y, device=\"cuda\", method='clf', data_type='image')\n",
    "h, mmd_value, p_value = tst(X, Y, device=\"cuda\", method=\"deep\", data_type=\"image\")"
   ]
  },
  {
   "cell_type": "code",
   "execution_count": null,
   "id": "f5a3bf28",
   "metadata": {},
   "outputs": [],
   "source": []
  }
 ],
 "metadata": {
  "kernelspec": {
   "display_name": "research",
   "language": "python",
   "name": "python3"
  },
  "language_info": {
   "codemirror_mode": {
    "name": "ipython",
    "version": 3
   },
   "file_extension": ".py",
   "mimetype": "text/x-python",
   "name": "python",
   "nbconvert_exporter": "python",
   "pygments_lexer": "ipython3",
   "version": "3.9.20"
  }
 },
 "nbformat": 4,
 "nbformat_minor": 5
}
